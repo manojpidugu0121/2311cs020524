{
 "cells": [
  {
   "cell_type": "code",
   "execution_count": 1,
   "id": "fec72a1d-c393-45c6-8d53-9bafa8b85e12",
   "metadata": {},
   "outputs": [
    {
     "data": {
      "text/plain": [
       "(90, 50, 40, 55, 60, 10, 70, 66, 72, 78, 15, 24, 64)"
      ]
     },
     "execution_count": 1,
     "metadata": {},
     "output_type": "execute_result"
    }
   ],
   "source": [
    "h = (90,50,40,55,60,10,70,66,72,78,15,24,64)\n",
    "h"
   ]
  },
  {
   "cell_type": "code",
   "execution_count": 2,
   "id": "e0d1840f-dfb7-4537-a319-6db12035c940",
   "metadata": {},
   "outputs": [
    {
     "data": {
      "text/plain": [
       "1"
      ]
     },
     "execution_count": 2,
     "metadata": {},
     "output_type": "execute_result"
    }
   ],
   "source": [
    "h.count(50) "
   ]
  },
  {
   "cell_type": "code",
   "execution_count": 3,
   "id": "a7efa4ae-d023-4015-a3d4-bf1b372b0bee",
   "metadata": {},
   "outputs": [
    {
     "data": {
      "text/plain": [
       "tuple"
      ]
     },
     "execution_count": 3,
     "metadata": {},
     "output_type": "execute_result"
    }
   ],
   "source": [
    "type(h)"
   ]
  },
  {
   "cell_type": "code",
   "execution_count": 4,
   "id": "de417485-e314-4aed-8a28-443c3f48e386",
   "metadata": {},
   "outputs": [
    {
     "data": {
      "text/plain": [
       "1"
      ]
     },
     "execution_count": 4,
     "metadata": {},
     "output_type": "execute_result"
    }
   ],
   "source": [
    "h.index(50) #shows the place of the numbers"
   ]
  },
  {
   "cell_type": "code",
   "execution_count": 5,
   "id": "51a277c9-31a1-4ee8-a751-9e0a3a9733d2",
   "metadata": {},
   "outputs": [
    {
     "data": {
      "text/plain": [
       "(90, 50, 40)"
      ]
     },
     "execution_count": 5,
     "metadata": {},
     "output_type": "execute_result"
    }
   ],
   "source": [
    "h[0:3] #index value between 0 to 3"
   ]
  },
  {
   "cell_type": "code",
   "execution_count": 10,
   "id": "28063b37-fa7f-4415-8fa0-cf53eb2fe789",
   "metadata": {},
   "outputs": [
    {
     "data": {
      "text/plain": [
       "{10, 20, 30, 60, 70, 80}"
      ]
     },
     "execution_count": 10,
     "metadata": {},
     "output_type": "execute_result"
    }
   ],
   "source": [
    "s = {80,70,30,80,60,30,10,20}\n",
    "s"
   ]
  },
  {
   "cell_type": "code",
   "execution_count": 11,
   "id": "1cba811f-c2a2-4083-a14e-7278a05851ca",
   "metadata": {},
   "outputs": [
    {
     "data": {
      "text/plain": [
       "set"
      ]
     },
     "execution_count": 11,
     "metadata": {},
     "output_type": "execute_result"
    }
   ],
   "source": [
    "type(s)"
   ]
  },
  {
   "cell_type": "code",
   "execution_count": 12,
   "id": "53920314-283c-4d62-ac81-8a2f125ad2c7",
   "metadata": {},
   "outputs": [
    {
     "data": {
      "text/plain": [
       "{10, 20, 30, 60, 70, 80}"
      ]
     },
     "execution_count": 12,
     "metadata": {},
     "output_type": "execute_result"
    }
   ],
   "source": [
    "s"
   ]
  },
  {
   "cell_type": "code",
   "execution_count": 13,
   "id": "3ec038bb-6544-4137-b663-7f66fff6e9b4",
   "metadata": {},
   "outputs": [
    {
     "data": {
      "text/plain": [
       "{10, 20, 30, 60, 70, 77, 80}"
      ]
     },
     "execution_count": 13,
     "metadata": {},
     "output_type": "execute_result"
    }
   ],
   "source": [
    "s.add(77) # add is used to insert more numbers\n",
    "s"
   ]
  },
  {
   "cell_type": "code",
   "execution_count": 14,
   "id": "7e068f1d-ea2a-4e48-923a-6bb1aab8545f",
   "metadata": {},
   "outputs": [
    {
     "data": {
      "text/plain": [
       "{20, 30, 60, 70, 77, 80}"
      ]
     },
     "execution_count": 14,
     "metadata": {},
     "output_type": "execute_result"
    }
   ],
   "source": [
    "s.remove(10) # remove is used to delete number\n",
    "s"
   ]
  },
  {
   "cell_type": "code",
   "execution_count": 15,
   "id": "c0ce278c-40e6-4177-8da6-5a7206858527",
   "metadata": {},
   "outputs": [
    {
     "data": {
      "text/plain": [
       "{10, 20, 30, 40, 50, 60}"
      ]
     },
     "execution_count": 15,
     "metadata": {},
     "output_type": "execute_result"
    }
   ],
   "source": [
    "y = {10,20,30,40,50,60}\n",
    "y"
   ]
  },
  {
   "cell_type": "code",
   "execution_count": 16,
   "id": "a31f9c09-5fde-44f3-8747-c70ca6c253d7",
   "metadata": {},
   "outputs": [
    {
     "data": {
      "text/plain": [
       "{20, 30, 60}"
      ]
     },
     "execution_count": 16,
     "metadata": {},
     "output_type": "execute_result"
    }
   ],
   "source": [
    "s.intersection(y) # it shows same values in both sets s and y"
   ]
  },
  {
   "cell_type": "code",
   "execution_count": 17,
   "id": "c3309ac7-4868-4332-8a83-88e29a503ae5",
   "metadata": {},
   "outputs": [
    {
     "data": {
      "text/plain": [
       "{10, 40, 50, 70, 77, 80}"
      ]
     },
     "execution_count": 17,
     "metadata": {},
     "output_type": "execute_result"
    }
   ],
   "source": [
    "s.symmetric_difference(y) #"
   ]
  },
  {
   "cell_type": "code",
   "execution_count": 18,
   "id": "8bb6fcbd-57f2-49fb-a835-fc474ad6ccc3",
   "metadata": {},
   "outputs": [
    {
     "data": {
      "text/plain": [
       "{10, 20, 30, 40, 50, 60, 70, 77, 80}"
      ]
     },
     "execution_count": 18,
     "metadata": {},
     "output_type": "execute_result"
    }
   ],
   "source": [
    "s.union(y) # it colaborate the both sets s and y "
   ]
  },
  {
   "cell_type": "code",
   "execution_count": 19,
   "id": "9324d901-872f-4a6e-9959-104fe6bfd0c4",
   "metadata": {},
   "outputs": [
    {
     "data": {
      "text/plain": [
       "{70, 77, 80}"
      ]
     },
     "execution_count": 19,
     "metadata": {},
     "output_type": "execute_result"
    }
   ],
   "source": [
    "s.difference(y) # it shows the different values in both sets "
   ]
  },
  {
   "cell_type": "code",
   "execution_count": 20,
   "id": "202114ea-ea4c-4ddc-8b21-624d7f1c5641",
   "metadata": {},
   "outputs": [
    {
     "data": {
      "text/plain": [
       "{10, 40, 50}"
      ]
     },
     "execution_count": 20,
     "metadata": {},
     "output_type": "execute_result"
    }
   ],
   "source": [
    "y.difference(s)# similarly"
   ]
  },
  {
   "cell_type": "code",
   "execution_count": 21,
   "id": "edeccf69-3e52-4d26-a1fb-a927bb6533e1",
   "metadata": {},
   "outputs": [
    {
     "data": {
      "text/plain": [
       "set"
      ]
     },
     "execution_count": 21,
     "metadata": {},
     "output_type": "execute_result"
    }
   ],
   "source": [
    "type(s)"
   ]
  },
  {
   "cell_type": "code",
   "execution_count": 22,
   "id": "a2a376ce-6ba7-4040-b7ab-b2d4847d2e1c",
   "metadata": {},
   "outputs": [
    {
     "data": {
      "text/plain": [
       "(80, 20, 70, 60, 77, 30)"
      ]
     },
     "execution_count": 22,
     "metadata": {},
     "output_type": "execute_result"
    }
   ],
   "source": [
    "tuple(s)"
   ]
  },
  {
   "cell_type": "code",
   "execution_count": 25,
   "id": "e899368f-8495-4827-82f0-bd2cc0fcbf20",
   "metadata": {},
   "outputs": [
    {
     "data": {
      "text/plain": [
       "(80, 20, 70, 60, 77, 30)"
      ]
     },
     "execution_count": 25,
     "metadata": {},
     "output_type": "execute_result"
    }
   ],
   "source": [
    "a = tuple(s)\n",
    "a"
   ]
  },
  {
   "cell_type": "code",
   "execution_count": 26,
   "id": "689215b1-4615-4458-811b-92257bf377ef",
   "metadata": {},
   "outputs": [
    {
     "data": {
      "text/plain": [
       "4"
      ]
     },
     "execution_count": 26,
     "metadata": {},
     "output_type": "execute_result"
    }
   ],
   "source": [
    "a.index(77)"
   ]
  },
  {
   "cell_type": "code",
   "execution_count": null,
   "id": "543cf6e1-0288-4457-97f5-c932c5549113",
   "metadata": {},
   "outputs": [],
   "source": []
  }
 ],
 "metadata": {
  "kernelspec": {
   "display_name": "Python 3 (ipykernel)",
   "language": "python",
   "name": "python3"
  },
  "language_info": {
   "codemirror_mode": {
    "name": "ipython",
    "version": 3
   },
   "file_extension": ".py",
   "mimetype": "text/x-python",
   "name": "python",
   "nbconvert_exporter": "python",
   "pygments_lexer": "ipython3",
   "version": "3.12.7"
  }
 },
 "nbformat": 4,
 "nbformat_minor": 5
}
